{
  "nbformat": 4,
  "nbformat_minor": 0,
  "metadata": {
    "colab": {
      "provenance": []
    },
    "kernelspec": {
      "name": "python3",
      "display_name": "Python 3"
    },
    "language_info": {
      "name": "python"
    }
  },
  "cells": [
    {
      "cell_type": "code",
      "execution_count": null,
      "metadata": {
        "colab": {
          "base_uri": "https://localhost:8080/"
        },
        "id": "mmUGOZ0CppGK",
        "outputId": "3eb0a7de-e4ae-45f5-d786-9deef7722df8"
      },
      "outputs": [
        {
          "output_type": "stream",
          "name": "stdout",
          "text": [
            "Requirement already satisfied: requests in /usr/local/lib/python3.10/dist-packages (2.32.3)\n",
            "Requirement already satisfied: beautifulsoup4 in /usr/local/lib/python3.10/dist-packages (4.12.3)\n",
            "Requirement already satisfied: openai in /usr/local/lib/python3.10/dist-packages (1.54.4)\n",
            "Requirement already satisfied: charset-normalizer<4,>=2 in /usr/local/lib/python3.10/dist-packages (from requests) (3.4.0)\n",
            "Requirement already satisfied: idna<4,>=2.5 in /usr/local/lib/python3.10/dist-packages (from requests) (3.10)\n",
            "Requirement already satisfied: urllib3<3,>=1.21.1 in /usr/local/lib/python3.10/dist-packages (from requests) (2.2.3)\n",
            "Requirement already satisfied: certifi>=2017.4.17 in /usr/local/lib/python3.10/dist-packages (from requests) (2024.8.30)\n",
            "Requirement already satisfied: soupsieve>1.2 in /usr/local/lib/python3.10/dist-packages (from beautifulsoup4) (2.6)\n",
            "Requirement already satisfied: anyio<5,>=3.5.0 in /usr/local/lib/python3.10/dist-packages (from openai) (3.7.1)\n",
            "Requirement already satisfied: distro<2,>=1.7.0 in /usr/local/lib/python3.10/dist-packages (from openai) (1.9.0)\n",
            "Requirement already satisfied: httpx<1,>=0.23.0 in /usr/local/lib/python3.10/dist-packages (from openai) (0.27.2)\n",
            "Requirement already satisfied: jiter<1,>=0.4.0 in /usr/local/lib/python3.10/dist-packages (from openai) (0.7.1)\n",
            "Requirement already satisfied: pydantic<3,>=1.9.0 in /usr/local/lib/python3.10/dist-packages (from openai) (2.9.2)\n",
            "Requirement already satisfied: sniffio in /usr/local/lib/python3.10/dist-packages (from openai) (1.3.1)\n",
            "Requirement already satisfied: tqdm>4 in /usr/local/lib/python3.10/dist-packages (from openai) (4.66.6)\n",
            "Requirement already satisfied: typing-extensions<5,>=4.11 in /usr/local/lib/python3.10/dist-packages (from openai) (4.12.2)\n",
            "Requirement already satisfied: exceptiongroup in /usr/local/lib/python3.10/dist-packages (from anyio<5,>=3.5.0->openai) (1.2.2)\n",
            "Requirement already satisfied: httpcore==1.* in /usr/local/lib/python3.10/dist-packages (from httpx<1,>=0.23.0->openai) (1.0.7)\n",
            "Requirement already satisfied: h11<0.15,>=0.13 in /usr/local/lib/python3.10/dist-packages (from httpcore==1.*->httpx<1,>=0.23.0->openai) (0.14.0)\n",
            "Requirement already satisfied: annotated-types>=0.6.0 in /usr/local/lib/python3.10/dist-packages (from pydantic<3,>=1.9.0->openai) (0.7.0)\n",
            "Requirement already satisfied: pydantic-core==2.23.4 in /usr/local/lib/python3.10/dist-packages (from pydantic<3,>=1.9.0->openai) (2.23.4)\n"
          ]
        }
      ],
      "source": [
        "pip install requests beautifulsoup4 openai\n"
      ]
    },
    {
      "cell_type": "code",
      "source": [
        "pip install openai==0.28\n"
      ],
      "metadata": {
        "colab": {
          "base_uri": "https://localhost:8080/",
          "height": 585
        },
        "id": "_4zLZq7brA3a",
        "outputId": "75a4b95c-8eaa-46d4-9ee7-ea4bbc70a559"
      },
      "execution_count": null,
      "outputs": [
        {
          "output_type": "stream",
          "name": "stdout",
          "text": [
            "Collecting openai==0.28\n",
            "  Downloading openai-0.28.0-py3-none-any.whl.metadata (13 kB)\n",
            "Requirement already satisfied: requests>=2.20 in /usr/local/lib/python3.10/dist-packages (from openai==0.28) (2.32.3)\n",
            "Requirement already satisfied: tqdm in /usr/local/lib/python3.10/dist-packages (from openai==0.28) (4.66.6)\n",
            "Requirement already satisfied: aiohttp in /usr/local/lib/python3.10/dist-packages (from openai==0.28) (3.11.2)\n",
            "Requirement already satisfied: charset-normalizer<4,>=2 in /usr/local/lib/python3.10/dist-packages (from requests>=2.20->openai==0.28) (3.4.0)\n",
            "Requirement already satisfied: idna<4,>=2.5 in /usr/local/lib/python3.10/dist-packages (from requests>=2.20->openai==0.28) (3.10)\n",
            "Requirement already satisfied: urllib3<3,>=1.21.1 in /usr/local/lib/python3.10/dist-packages (from requests>=2.20->openai==0.28) (2.2.3)\n",
            "Requirement already satisfied: certifi>=2017.4.17 in /usr/local/lib/python3.10/dist-packages (from requests>=2.20->openai==0.28) (2024.8.30)\n",
            "Requirement already satisfied: aiohappyeyeballs>=2.3.0 in /usr/local/lib/python3.10/dist-packages (from aiohttp->openai==0.28) (2.4.3)\n",
            "Requirement already satisfied: aiosignal>=1.1.2 in /usr/local/lib/python3.10/dist-packages (from aiohttp->openai==0.28) (1.3.1)\n",
            "Requirement already satisfied: attrs>=17.3.0 in /usr/local/lib/python3.10/dist-packages (from aiohttp->openai==0.28) (24.2.0)\n",
            "Requirement already satisfied: frozenlist>=1.1.1 in /usr/local/lib/python3.10/dist-packages (from aiohttp->openai==0.28) (1.5.0)\n",
            "Requirement already satisfied: multidict<7.0,>=4.5 in /usr/local/lib/python3.10/dist-packages (from aiohttp->openai==0.28) (6.1.0)\n",
            "Requirement already satisfied: propcache>=0.2.0 in /usr/local/lib/python3.10/dist-packages (from aiohttp->openai==0.28) (0.2.0)\n",
            "Requirement already satisfied: yarl<2.0,>=1.17.0 in /usr/local/lib/python3.10/dist-packages (from aiohttp->openai==0.28) (1.17.2)\n",
            "Requirement already satisfied: async-timeout<6.0,>=4.0 in /usr/local/lib/python3.10/dist-packages (from aiohttp->openai==0.28) (4.0.3)\n",
            "Requirement already satisfied: typing-extensions>=4.1.0 in /usr/local/lib/python3.10/dist-packages (from multidict<7.0,>=4.5->aiohttp->openai==0.28) (4.12.2)\n",
            "Downloading openai-0.28.0-py3-none-any.whl (76 kB)\n",
            "\u001b[?25l   \u001b[90m━━━━━━━━━━━━━━━━━━━━━━━━━━━━━━━━━━━━━━━━\u001b[0m \u001b[32m0.0/76.5 kB\u001b[0m \u001b[31m?\u001b[0m eta \u001b[36m-:--:--\u001b[0m\r\u001b[2K   \u001b[91m━━━━━━━━━━━━━━━━━━━━━━━━━━━━━━━━━━━━━\u001b[0m\u001b[90m╺\u001b[0m\u001b[90m━━\u001b[0m \u001b[32m71.7/76.5 kB\u001b[0m \u001b[31m2.8 MB/s\u001b[0m eta \u001b[36m0:00:01\u001b[0m\r\u001b[2K   \u001b[90m━━━━━━━━━━━━━━━━━━━━━━━━━━━━━━━━━━━━━━━━\u001b[0m \u001b[32m76.5/76.5 kB\u001b[0m \u001b[31m1.8 MB/s\u001b[0m eta \u001b[36m0:00:00\u001b[0m\n",
            "\u001b[?25hInstalling collected packages: openai\n",
            "  Attempting uninstall: openai\n",
            "    Found existing installation: openai 1.54.4\n",
            "    Uninstalling openai-1.54.4:\n",
            "      Successfully uninstalled openai-1.54.4\n",
            "Successfully installed openai-0.28.0\n"
          ]
        },
        {
          "output_type": "display_data",
          "data": {
            "application/vnd.colab-display-data+json": {
              "pip_warning": {
                "packages": [
                  "openai"
                ]
              },
              "id": "ba1a3df829d54a95ad2f8d80cba9e214"
            }
          },
          "metadata": {}
        }
      ]
    },
    {
      "cell_type": "code",
      "source": [
        "# 安裝所需套件\n",
        "!pip install pytesseract pillow requests beautifulsoup4 openai\n",
        "!apt-get update\n",
        "!apt-get install -y tesseract-ocr\n",
        "!apt-get install -y tesseract-ocr-chi-tra  # 安裝繁體中文支持"
      ],
      "metadata": {
        "id": "sRKofCFpUTHj"
      },
      "execution_count": null,
      "outputs": []
    },
    {
      "cell_type": "code",
      "source": [
        "import requests\n",
        "from bs4 import BeautifulSoup\n",
        "from PIL import Image\n",
        "from io import BytesIO\n",
        "import pytesseract\n",
        "import openai\n",
        "\n",
        "# 設定 OpenAI API Key\n",
        "openai.api_key = \"\"\n",
        "\n",
        "def fetch_news_content_with_images(url):\n",
        "    \"\"\"\n",
        "    爬取新聞內容，並根據設定提取圖片文字。\n",
        "    \"\"\"\n",
        "    try:\n",
        "        response = requests.get(url)\n",
        "        response.raise_for_status()\n",
        "        soup = BeautifulSoup(response.text, 'html.parser')\n",
        "\n",
        "        # 提取文字內容\n",
        "        article_content = soup.find('div', class_='content')\n",
        "        text_content = article_content.get_text(strip=True) if article_content else \"無法找到文章內容。\"\n",
        "\n",
        "        # 提取圖片中的文字\n",
        "        image_texts = []\n",
        "        if article_content:\n",
        "            for img_tag in article_content.find_all('img'):\n",
        "                img_url = img_tag.get('src')\n",
        "                if img_url:\n",
        "                    image_text = extract_text_from_image(img_url)\n",
        "                    if image_text:\n",
        "                        image_texts.append(image_text)\n",
        "\n",
        "        # 合併文字和圖片中的文字\n",
        "        combined_content = text_content\n",
        "        if image_texts:\n",
        "            combined_content += \"\\n\\n\" + \"\\n\".join(image_texts)\n",
        "\n",
        "        return combined_content\n",
        "    except Exception as e:\n",
        "        return f\"爬取或解析錯誤：{e}\"\n",
        "\n",
        "def extract_text_from_image(img_url):\n",
        "    \"\"\"\n",
        "    從圖片中提取文字\n",
        "    \"\"\"\n",
        "    try:\n",
        "        response = requests.get(img_url)\n",
        "        response.raise_for_status()\n",
        "        image = Image.open(BytesIO(response.content))\n",
        "        # 預處理圖片並提取文字\n",
        "        text = pytesseract.image_to_string(image, lang=\"chi_tra\")  # 設定語言為繁體中文\n",
        "        return text.strip()\n",
        "    except Exception as e:\n",
        "        return f\"圖片處理錯誤：{e}\"\n",
        "\n",
        "def summarize_content(content):\n",
        "    \"\"\"\n",
        "    使用 GPT 模型生成更結構化的摘要\n",
        "    \"\"\"\n",
        "    try:\n",
        "        # 提供更具指導性的指令\n",
        "        prompt = (\n",
        "            \"請使用繁體中文根據以下文章內容生成摘要，摘要需包含以下部分：\\n\"\n",
        "            \"1. 主旨：用一到兩句話概述文章的核心內容。\\n\"\n",
        "            \"2. 重點：提取關鍵數字、機構名稱和時間。\\n\"\n",
        "            \"3. 詳述：分段描述文章的具體細節，適合深入了解的讀者。\\n\\n\"\n",
        "            f\"文章內容如下：\\n{content}\"\n",
        "        )\n",
        "        response = openai.ChatCompletion.create(\n",
        "            model=\"gpt-3.5-turbo\",\n",
        "            messages=[\n",
        "                {\"role\": \"system\", \"content\": \"你是一個專業的文章摘要助手，擅長生成條理清晰的摘要。\"},\n",
        "                {\"role\": \"user\", \"content\": prompt}\n",
        "            ]\n",
        "        )\n",
        "        return response['choices'][0]['message']['content']\n",
        "    except openai.error.OpenAIError as e:\n",
        "        return f\"API 請求錯誤：{e}\"\n",
        "\n",
        "def main():\n",
        "    \"\"\"\n",
        "    主函式，整合新聞爬取與摘要功能\n",
        "    \"\"\"\n",
        "    news_url = \"https://ithome.com.tw/news/159391\"\n",
        "    print(\"正在抓取新聞內容和圖片文字...\")\n",
        "    news_content = fetch_news_content_with_images(news_url)\n",
        "\n",
        "    if \"錯誤\" not in news_content and \"無法\" not in news_content:\n",
        "        print(\"新聞內容抓取成功，正在進行摘要...\")\n",
        "        summary = summarize_content(news_content)\n",
        "        print(\"摘要完成：\")\n",
        "        print(summary)\n",
        "    else:\n",
        "        print(news_content)\n",
        "\n",
        "if __name__ == \"__main__\":\n",
        "    main()\n"
      ],
      "metadata": {
        "colab": {
          "base_uri": "https://localhost:8080/"
        },
        "id": "0GpkrZy10WYU",
        "outputId": "4865dcb0-b283-4dc8-82f8-893f3a53839d"
      },
      "execution_count": null,
      "outputs": [
        {
          "output_type": "stream",
          "name": "stdout",
          "text": [
            "正在抓取新聞內容和圖片文字...\n",
            "新聞內容抓取成功，正在進行摘要...\n",
            "摘要完成：\n",
            "主旨：文章講述了國泰金控及其子公司國泰世華銀行在3年內進行上雲轉型的過程與策略，強調各階段的規劃和挑戰。\n",
            "\n",
            "重點：國泰金控在2022年的上雲計畫提前2年完成預算，計畫將全集團100套系統上雲；採用Cathay 6R雲端遷移方法論，強調公有雲與多雲混合架構；重視雲端維運成本控管(FinOps)。\n",
            "\n",
            "詳述：文章介紹了國泰金控的上雲策略，從銀行開始發展上公有雲，並設立了4個階段的上雲規畫，包括站穩單一公有雲、發展多雲等。國泰金控也制定了一套上雲的方法論Cathay 6R，並利用雲原生技術架構推動多公雲混合雲架構的發展。文章提到國泰金控注重雲端維運成本的控管，強調了對FinOps的重視，並計劃推出跨雲監控整合平臺。此外，國泰金控也以資安需求為考量，打造了金融雲端應用環境，並累積了系統遷移、不同架構上雲下雲操作經驗。在管理上，國泰金控計劃設立委外委員會負責審查上雲委外作業，並重視法令合規、資訊安全、上雲效益和跨界人才等挑戰。文章最後指出，透過深入理解子公司對雲端的需求和使用情況，才能實現上雲效益。\n"
          ]
        }
      ]
    },
    {
      "cell_type": "code",
      "source": [
        "import requests\n",
        "from bs4 import BeautifulSoup\n",
        "from PIL import Image\n",
        "from io import BytesIO\n",
        "import pytesseract\n",
        "import openai\n",
        "\n",
        "# 設定 OpenAI API Key\n",
        "openai.api_key = \"\"\n",
        "\n",
        "def fetch_news_content_with_images(url):\n",
        "    \"\"\"\n",
        "    爬取新聞內容，並根據設定提取圖片文字。\n",
        "    \"\"\"\n",
        "    try:\n",
        "        response = requests.get(url)\n",
        "        response.raise_for_status()\n",
        "        soup = BeautifulSoup(response.text, 'html.parser')\n",
        "\n",
        "        # 提取文字內容\n",
        "        article_content = soup.find('div', class_='content')\n",
        "        text_content = article_content.get_text(strip=True) if article_content else \"無法找到文章內容。\"\n",
        "\n",
        "        # 提取圖片中的文字\n",
        "        image_texts = []\n",
        "        if article_content:\n",
        "            for img_tag in article_content.find_all('img'):\n",
        "                img_url = img_tag.get('src')\n",
        "                if img_url:\n",
        "                    image_text = extract_text_from_image(img_url)\n",
        "                    if image_text:\n",
        "                        image_texts.append(image_text)\n",
        "\n",
        "        # 合併文字和圖片中的文字\n",
        "        combined_content = text_content\n",
        "        if image_texts:\n",
        "            combined_content += \"\\n\\n\" + \"\\n\".join(image_texts)\n",
        "\n",
        "        return combined_content\n",
        "    except Exception as e:\n",
        "        return f\"爬取或解析錯誤：{e}\"\n",
        "\n",
        "def extract_text_from_image(img_url):\n",
        "    \"\"\"\n",
        "    從圖片中提取文字\n",
        "    \"\"\"\n",
        "    try:\n",
        "        response = requests.get(img_url)\n",
        "        response.raise_for_status()\n",
        "        image = Image.open(BytesIO(response.content))\n",
        "        # 預處理圖片並提取文字\n",
        "        text = pytesseract.image_to_string(image, lang=\"chi_tra\")  # 設定語言為繁體中文\n",
        "        return text.strip()\n",
        "    except Exception as e:\n",
        "        return f\"圖片處理錯誤：{e}\"\n",
        "\n",
        "def summarize_content(content):\n",
        "    \"\"\"\n",
        "    使用 GPT 模型生成更結構化的摘要\n",
        "    \"\"\"\n",
        "    try:\n",
        "        # 提供更具指導性的指令\n",
        "        prompt = (\n",
        "            \"請使用繁體中文根據以下文章內容生成摘要，摘要需包含以下部分：\\n\"\n",
        "            \"1. 主旨：用一到兩句話概述文章的核心內容。\\n\"\n",
        "            \"2. 重點：提取關鍵數字、機構名稱和時間。\\n\"\n",
        "            \"3. 詳述：分段描述文章的具體細節，適合深入了解的讀者。\\n\\n\"\n",
        "            f\"文章內容如下：\\n{content}\"\n",
        "        )\n",
        "        response = openai.ChatCompletion.create(\n",
        "            model=\"gpt-3.5-turbo\",\n",
        "            messages=[\n",
        "                {\"role\": \"system\", \"content\": \"你是一個專業的文章摘要助手，擅長生成條理清晰的摘要。\"},\n",
        "                {\"role\": \"user\", \"content\": prompt}\n",
        "            ]\n",
        "        )\n",
        "        return response['choices'][0]['message']['content']\n",
        "    except openai.error.OpenAIError as e:\n",
        "        return f\"API 請求錯誤：{e}\"\n",
        "\n",
        "def main():\n",
        "    \"\"\"\n",
        "    主函式，整合新聞爬取與摘要功能\n",
        "    \"\"\"\n",
        "    news_url = \"https://ithome.com.tw/news/152373\"\n",
        "    print(\"正在抓取新聞內容和圖片文字...\")\n",
        "    news_content = fetch_news_content_with_images(news_url)\n",
        "\n",
        "    if \"錯誤\" not in news_content and \"無法\" not in news_content:\n",
        "        print(\"新聞內容抓取成功，正在進行摘要...\")\n",
        "        summary = summarize_content(news_content)\n",
        "        print(\"摘要完成：\")\n",
        "        print(summary)\n",
        "    else:\n",
        "        print(news_content)\n",
        "\n",
        "if __name__ == \"__main__\":\n",
        "    main()\n"
      ],
      "metadata": {
        "colab": {
          "base_uri": "https://localhost:8080/"
        },
        "id": "RMJDGQ5lROS8",
        "outputId": "6e626b0f-e7bb-4912-c430-5bc81ef635fe"
      },
      "execution_count": null,
      "outputs": [
        {
          "output_type": "stream",
          "name": "stdout",
          "text": [
            "正在抓取新聞內容和圖片文字...\n",
            "新聞內容抓取成功，正在進行摘要...\n",
            "摘要完成：\n",
            "主旨：文章關於國泰金控大規模上雲的策略和方法，包括擬定上雲策略、逐步遷移系統、建立方法論，以及導入自評系統等過程。\n",
            "\n",
            "重點：國泰金控數數發中心將在未來3～5年內完成全集團100套系統上雲，並透過自建的Cathay 6R雲端遷移方法論來加快子公司上雲的步伐。\n",
            "\n",
            "詳述：國泰金控集團正面臨大規模上雲的挑戰，已展開集團上雲旅程，擬定上雲策略分為四階段，包含雲環境就緒、採用、優化和應用現代化。國泰致力於建構雲端數位發展能力，具體目標是在未來3～5年完成全集團100套系統上雲。他們建立一套方法論協助子公司進行大量系統遷移，分為Rehost、Re-platform、Refactor、Rewrite、Replace和Retain六種遷移架構，以對應到IaaS、PaaS和SaaS三種不同上雲模式。此方法論還個案例的分析、系統遷移方式的設計等，以確保上雲效益。此外，國泰金控亦已自行開發了CCMA系統來協助系統上雲評估，結合6R方法論，以縮短評估時間。此舉有助於提高子公司的上雲效率，並強調採用PaaS或SaaS方式上雲，以獲得更高的雲端效益。最終，文章提及國泰金控未來將關注雲端成本控制和維運，並將Day-2 Operation維運面也納入關鍵考量。\n"
          ]
        }
      ]
    },
    {
      "cell_type": "markdown",
      "source": [
        "# 參考資料\n",
        "\n",
        "*   ChatGPT\n",
        "\n",
        "  * https://chatgpt.com/share/675152b9-af94-8001-ad56-987bdf679133\n",
        "  * https://chatgpt.com/share/675152ad-d1ec-8001-9b2b-ab793e6ef96e\n",
        "\n",
        "*   爬取技術\n",
        "\n",
        "  * Requests 文檔：https://docs.python-requests.org/en/latest/\n",
        " * BeautifulSoup 文檔：https://www.crummy.com/software/BeautifulSoup/\n",
        "\n",
        "*   光學字符識別(OCR)\n",
        " * Tesseract OCR：https://github.com/tesseract-ocr/tesseract\n",
        " * Pytesseract 文檔：https://pypi.org/project/pytesseract/\n",
        "*自然語言處理（NLP）與生成\n",
        " * OpenAI ChatGPT API 文檔：https://platform.openai.com/docs/"
      ],
      "metadata": {
        "id": "4TL8pGL3pTT9"
      }
    }
  ]
}